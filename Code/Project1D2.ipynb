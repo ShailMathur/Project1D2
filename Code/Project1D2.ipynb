{
 "cells": [
  {
   "cell_type": "code",
   "execution_count": 1,
   "metadata": {
    "scrolled": true
   },
   "outputs": [],
   "source": [
    "# Dependencies and Setup\n",
    "import matplotlib.pyplot as plt\n",
    "import pandas as pd\n",
    "import numpy as np\n",
    "import requests\n",
    "import time\n",
    "from datetime import datetime\n",
    "\n",
    "from scipy.stats import linregress\n",
    "\n",
    "\n",
    "\n",
    "#Get 2019 Data\n",
    "CapitalBike201901 = \"../UnzipRawFiles/2019/201901-capitalbikeshare-tripdata.csv\"\n",
    "CapitalBike201902 = \"../UnzipRawFiles/2019/201902-capitalbikeshare-tripdata.csv\"\n",
    "CapitalBike201903 = \"../UnzipRawFiles/2019/201903-capitalbikeshare-tripdata.csv\"\n",
    "CapitalBike201904 = \"../UnzipRawFiles/2019/201904-capitalbikeshare-tripdata.csv\"\n",
    "CapitalBike201905 = \"../UnzipRawFiles/2019/201905-capitalbikeshare-tripdata.csv\"\n",
    "CapitalBike201906 = \"../UnzipRawFiles/2019/201906-capitalbikeshare-tripdata.csv\"\n",
    "CapitalBike201907 = \"../UnzipRawFiles/2019/201907-capitalbikeshare-tripdata.csv\"\n",
    "CapitalBike201908 = \"../UnzipRawFiles/2019/201908-capitalbikeshare-tripdata.csv\"\n",
    "CapitalBike201909 = \"../UnzipRawFiles/2019/201909-capitalbikeshare-tripdata.csv\"\n",
    "CapitalBike201910 = \"../UnzipRawFiles/2019/201910-capitalbikeshare-tripdata.csv\"\n",
    "CapitalBike201911 = \"../UnzipRawFiles/2019/201911-capitalbikeshare-tripdata.csv\"\n",
    "CapitalBike201912 = \"../UnzipRawFiles/2019/201912-capitalbikeshare-tripdata.csv\"\n",
    "\n",
    "\n",
    "\n",
    "CapitalBike201901_df = pd.read_csv(CapitalBike201901)\n",
    "CapitalBike201902_df = pd.read_csv(CapitalBike201902)\n",
    "CapitalBike201903_df = pd.read_csv(CapitalBike201903)\n",
    "CapitalBike201904_df = pd.read_csv(CapitalBike201904)\n",
    "CapitalBike201905_df = pd.read_csv(CapitalBike201905)\n",
    "CapitalBike201906_df = pd.read_csv(CapitalBike201906)\n",
    "CapitalBike201907_df = pd.read_csv(CapitalBike201907)\n",
    "CapitalBike201908_df = pd.read_csv(CapitalBike201908)\n",
    "CapitalBike201909_df = pd.read_csv(CapitalBike201909)\n",
    "CapitalBike201910_df = pd.read_csv(CapitalBike201910)\n",
    "CapitalBike201911_df = pd.read_csv(CapitalBike201911)\n",
    "CapitalBike201912_df = pd.read_csv(CapitalBike201912)"
   ]
  },
  {
   "cell_type": "code",
   "execution_count": 2,
   "metadata": {
    "scrolled": true
   },
   "outputs": [
    {
     "data": {
      "text/html": [
       "<div>\n",
       "<style scoped>\n",
       "    .dataframe tbody tr th:only-of-type {\n",
       "        vertical-align: middle;\n",
       "    }\n",
       "\n",
       "    .dataframe tbody tr th {\n",
       "        vertical-align: top;\n",
       "    }\n",
       "\n",
       "    .dataframe thead th {\n",
       "        text-align: right;\n",
       "    }\n",
       "</style>\n",
       "<table border=\"1\" class=\"dataframe\">\n",
       "  <thead>\n",
       "    <tr style=\"text-align: right;\">\n",
       "      <th></th>\n",
       "      <th>Duration</th>\n",
       "      <th>Start date</th>\n",
       "      <th>End date</th>\n",
       "      <th>Start station number</th>\n",
       "      <th>Start station</th>\n",
       "      <th>End station number</th>\n",
       "      <th>End station</th>\n",
       "      <th>Bike number</th>\n",
       "      <th>Member type</th>\n",
       "    </tr>\n",
       "  </thead>\n",
       "  <tbody>\n",
       "    <tr>\n",
       "      <th>350139</th>\n",
       "      <td>733</td>\n",
       "      <td>2019-06-30 23:57:17</td>\n",
       "      <td>2019-07-01 00:09:30</td>\n",
       "      <td>31609</td>\n",
       "      <td>Maine Ave &amp; 7th St SW</td>\n",
       "      <td>31610</td>\n",
       "      <td>Eastern Market / 7th &amp; North Carolina Ave SE</td>\n",
       "      <td>W22399</td>\n",
       "      <td>Casual</td>\n",
       "    </tr>\n",
       "    <tr>\n",
       "      <th>350140</th>\n",
       "      <td>5127</td>\n",
       "      <td>2019-06-30 23:58:11</td>\n",
       "      <td>2019-07-01 01:23:39</td>\n",
       "      <td>31292</td>\n",
       "      <td>22nd St &amp; Constitution Ave NW</td>\n",
       "      <td>31261</td>\n",
       "      <td>21st St &amp; Constitution Ave NW</td>\n",
       "      <td>W20536</td>\n",
       "      <td>Casual</td>\n",
       "    </tr>\n",
       "    <tr>\n",
       "      <th>350141</th>\n",
       "      <td>5145</td>\n",
       "      <td>2019-06-30 23:58:24</td>\n",
       "      <td>2019-07-01 01:24:10</td>\n",
       "      <td>31292</td>\n",
       "      <td>22nd St &amp; Constitution Ave NW</td>\n",
       "      <td>31261</td>\n",
       "      <td>21st St &amp; Constitution Ave NW</td>\n",
       "      <td>W20531</td>\n",
       "      <td>Casual</td>\n",
       "    </tr>\n",
       "    <tr>\n",
       "      <th>350142</th>\n",
       "      <td>331</td>\n",
       "      <td>2019-06-30 23:59:08</td>\n",
       "      <td>2019-07-01 00:04:39</td>\n",
       "      <td>31610</td>\n",
       "      <td>Eastern Market / 7th &amp; North Carolina Ave SE</td>\n",
       "      <td>31612</td>\n",
       "      <td>D St &amp; Maryland Ave NE</td>\n",
       "      <td>W00795</td>\n",
       "      <td>Member</td>\n",
       "    </tr>\n",
       "    <tr>\n",
       "      <th>350143</th>\n",
       "      <td>467</td>\n",
       "      <td>2019-06-30 23:59:17</td>\n",
       "      <td>2019-07-01 00:07:05</td>\n",
       "      <td>31319</td>\n",
       "      <td>Wisconsin Ave &amp; Brandywine St NW</td>\n",
       "      <td>32014</td>\n",
       "      <td>Friendship Hts Metro / Wisconsin Ave &amp; Wiscons...</td>\n",
       "      <td>W23253</td>\n",
       "      <td>Casual</td>\n",
       "    </tr>\n",
       "  </tbody>\n",
       "</table>\n",
       "</div>"
      ],
      "text/plain": [
       "        Duration           Start date             End date  \\\n",
       "350139       733  2019-06-30 23:57:17  2019-07-01 00:09:30   \n",
       "350140      5127  2019-06-30 23:58:11  2019-07-01 01:23:39   \n",
       "350141      5145  2019-06-30 23:58:24  2019-07-01 01:24:10   \n",
       "350142       331  2019-06-30 23:59:08  2019-07-01 00:04:39   \n",
       "350143       467  2019-06-30 23:59:17  2019-07-01 00:07:05   \n",
       "\n",
       "        Start station number                                 Start station  \\\n",
       "350139                 31609                         Maine Ave & 7th St SW   \n",
       "350140                 31292                 22nd St & Constitution Ave NW   \n",
       "350141                 31292                 22nd St & Constitution Ave NW   \n",
       "350142                 31610  Eastern Market / 7th & North Carolina Ave SE   \n",
       "350143                 31319              Wisconsin Ave & Brandywine St NW   \n",
       "\n",
       "        End station number                                        End station  \\\n",
       "350139               31610       Eastern Market / 7th & North Carolina Ave SE   \n",
       "350140               31261                      21st St & Constitution Ave NW   \n",
       "350141               31261                      21st St & Constitution Ave NW   \n",
       "350142               31612                             D St & Maryland Ave NE   \n",
       "350143               32014  Friendship Hts Metro / Wisconsin Ave & Wiscons...   \n",
       "\n",
       "       Bike number Member type  \n",
       "350139      W22399      Casual  \n",
       "350140      W20536      Casual  \n",
       "350141      W20531      Casual  \n",
       "350142      W00795      Member  \n",
       "350143      W23253      Casual  "
      ]
     },
     "execution_count": 2,
     "metadata": {},
     "output_type": "execute_result"
    }
   ],
   "source": [
    "CapitalBike201906_df.tail()"
   ]
  },
  {
   "cell_type": "code",
   "execution_count": 3,
   "metadata": {},
   "outputs": [],
   "source": [
    "combined_2019_df = pd.concat([CapitalBike201901_df, CapitalBike201902_df,CapitalBike201903_df,CapitalBike201904_df, CapitalBike201905_df, CapitalBike201906_df,CapitalBike201907_df,CapitalBike201908_df,CapitalBike201909_df,CapitalBike201910_df,CapitalBike201911_df,CapitalBike201912_df], ignore_index=True)\n"
   ]
  },
  {
   "cell_type": "code",
   "execution_count": 4,
   "metadata": {},
   "outputs": [
    {
     "data": {
      "text/plain": [
       "Duration                3398417\n",
       "Start date              3398417\n",
       "End date                3398417\n",
       "Start station number    3398417\n",
       "Start station           3398417\n",
       "End station number      3398417\n",
       "End station             3398417\n",
       "Bike number             3398403\n",
       "Member type             3398417\n",
       "dtype: int64"
      ]
     },
     "execution_count": 4,
     "metadata": {},
     "output_type": "execute_result"
    }
   ],
   "source": [
    "combined_2019_df.count()"
   ]
  },
  {
   "cell_type": "code",
   "execution_count": 5,
   "metadata": {},
   "outputs": [],
   "source": [
    "#cleanup\n",
    "combined_2019_df.dropna(inplace = True)"
   ]
  },
  {
   "cell_type": "code",
   "execution_count": 6,
   "metadata": {},
   "outputs": [
    {
     "data": {
      "text/plain": [
       "Duration                3398403\n",
       "Start date              3398403\n",
       "End date                3398403\n",
       "Start station number    3398403\n",
       "Start station           3398403\n",
       "End station number      3398403\n",
       "End station             3398403\n",
       "Bike number             3398403\n",
       "Member type             3398403\n",
       "dtype: int64"
      ]
     },
     "execution_count": 6,
     "metadata": {},
     "output_type": "execute_result"
    }
   ],
   "source": [
    "combined_2019_df.count()"
   ]
  },
  {
   "cell_type": "code",
   "execution_count": null,
   "metadata": {},
   "outputs": [],
   "source": [
    "combined_2019_df['DateTime'] =  pd.to_datetime(combined_2019_df['Start date'], format='%Y-%m-%d %H:%M:%S')\n",
    "# extracting time from timestamp\n",
    "combined_2019_df['Time'] = combined_2019_df['DateTime'].dt.strftime('%H:%M')\n",
    "combined_2019_df['Month'] = combined_2019_df['DateTime'].dt.strftime('%b')\n",
    "combined_2019_df['Date'] = combined_2019_df['DateTime'].dt.strftime('%x')\n",
    "#combined_2019_df.tail()"
   ]
  },
  {
   "cell_type": "code",
   "execution_count": null,
   "metadata": {},
   "outputs": [],
   "source": [
    "combined_2019_df = combined_2019_df.drop(['Start station number','Start station','End station number','End station'], axis = 1)\n",
    "\n",
    "combined_2019_df.head()"
   ]
  },
  {
   "cell_type": "code",
   "execution_count": null,
   "metadata": {},
   "outputs": [],
   "source": [
    "\n",
    "#combined_2019_df.to_csv('2019Data.csv', index = False)\n"
   ]
  },
  {
   "cell_type": "code",
   "execution_count": null,
   "metadata": {},
   "outputs": [],
   "source": [
    "#get 2020 data\n",
    "CapitalBike202001 = \"../UnzipRawFiles/2020/202001-capitalbikeshare-tripdata.csv\"\n",
    "CapitalBike202002 = \"../UnzipRawFiles/2020/202002-capitalbikeshare-tripdata.csv\"\n",
    "CapitalBike202003 = \"../UnzipRawFiles/2020/202003-capitalbikeshare-tripdata.csv\"\n",
    "CapitalBike202005 = \"../UnzipRawFiles/2020/202005-capitalbikeshare-tripdata.csv\"\n",
    "CapitalBike202006 = \"../UnzipRawFiles/2020/202006-capitalbikeshare-tripdata.csv\"\n",
    "CapitalBike202007 = \"../UnzipRawFiles/2020/202007-capitalbikeshare-tripdata.csv\"\n",
    "CapitalBike202008 = \"../UnzipRawFiles/2020/202008-capitalbikeshare-tripdata.csv\"\n",
    "CapitalBike202009 = \"../UnzipRawFiles/2020/202009-capitalbikeshare-tripdata.csv\"\n",
    "CapitalBike202010 = \"../UnzipRawFiles/2020/202010-capitalbikeshare-tripdata.csv\"\n",
    "CapitalBike202011 = \"../UnzipRawFiles/2020/202011-capitalbikeshare-tripdata.csv\"\n",
    "CapitalBike202012 = \"../UnzipRawFiles/2020/202012-capitalbikeshare-tripdata.csv\"\n",
    "\n",
    "\n",
    "CapitalBike202001_df = pd.read_csv(CapitalBike202001)\n",
    "CapitalBike202002_df = pd.read_csv(CapitalBike202002)\n",
    "CapitalBike202003_df = pd.read_csv(CapitalBike202003)\n",
    "CapitalBike202005_df = pd.read_csv(CapitalBike202005)\n",
    "CapitalBike202006_df = pd.read_csv(CapitalBike202006)\n",
    "CapitalBike202007_df = pd.read_csv(CapitalBike202007)\n",
    "CapitalBike202008_df = pd.read_csv(CapitalBike202008)\n",
    "CapitalBike202009_df = pd.read_csv(CapitalBike202009)\n",
    "CapitalBike202010_df = pd.read_csv(CapitalBike202010)\n",
    "CapitalBike202011_df = pd.read_csv(CapitalBike202011)\n",
    "CapitalBike202012_df = pd.read_csv(CapitalBike202012)"
   ]
  },
  {
   "cell_type": "code",
   "execution_count": null,
   "metadata": {},
   "outputs": [],
   "source": [
    "CapitalBike202007_df.head()"
   ]
  },
  {
   "cell_type": "code",
   "execution_count": null,
   "metadata": {},
   "outputs": [],
   "source": [
    "#combine data\n",
    "#combined_2020_df = pd.concat([CapitalBike202001_df, CapitalBike202002_df,CapitalBike202003_df, CapitalBike202005_df, CapitalBike202006_df, CapitalBike202007_df, CapitalBike202008_df, CapitalBike202009_df, CapitalBike202010_df, CapitalBike202011_df, CapitalBike202012_df], ignore_index=True)\n",
    "# #get columns that are needed\n",
    "#combined_2020_df = combined_2020_df[[\"Duration\", \"Start date\",\"End date\",\"Start station number\",\"Start station\",\"End station number\",\"End station\",\"Bike number\",\"Member type\"]]\n",
    "\n",
    "#====Data format changed between March 2020 and May 2020....converted May-Dec dataset to align with Jan2019 - Mar2020 datasets.\n",
    "combined_2020_1st_df = pd.concat([CapitalBike202001_df, CapitalBike202002_df,CapitalBike202003_df], ignore_index=True)\n",
    "combined_2020_2nd_df = pd.concat([CapitalBike202005_df, CapitalBike202006_df, CapitalBike202007_df, CapitalBike202008_df, CapitalBike202009_df, CapitalBike202010_df, CapitalBike202011_df, CapitalBike202012_df], ignore_index=True)\n",
    "#====Had to create a duration column in seconds from starting and ending times to alighn with 2019 data.\n",
    "combined_2020_2nd_df['Duration'] = pd.to_timedelta(pd.to_datetime(combined_2020_2nd_df['ended_at'], format='%Y-%m-%d %H:%M:%S')-pd.to_datetime(combined_2020_2nd_df['started_at'], format='%Y-%m-%d %H:%M:%S')).dt.total_seconds()\n",
    "combined_2020_2ndcol_df = combined_2020_2nd_df[['Duration','started_at','ended_at','start_station_id','start_station_name','end_station_id','end_station_name','ride_id','member_casual']]\n",
    "combined_2020_2ndcol_df = combined_2020_2ndcol_df.rename(columns={'started_at':'Start date','ended_at':'End date','start_station_id':'Start station number','start_station_name':'Start station','end_station_id':'End station number','end_station_name':'End station','ride_id':'Bike number','member_casual':'Member type'})"
   ]
  },
  {
   "cell_type": "code",
   "execution_count": null,
   "metadata": {},
   "outputs": [],
   "source": [
    "combined_2020_2ndcol_df.info()"
   ]
  },
  {
   "cell_type": "code",
   "execution_count": null,
   "metadata": {
    "scrolled": true
   },
   "outputs": [],
   "source": [
    "combined_2020_1st_df.info()"
   ]
  },
  {
   "cell_type": "code",
   "execution_count": null,
   "metadata": {},
   "outputs": [],
   "source": [
    "#---NEW consolidated 2020 dataset\n",
    "combined_2020_df = pd.concat([combined_2020_1st_df, combined_2020_2ndcol_df], ignore_index=True)\n",
    "combined_2020_df = combined_2020_df.drop(['Start station number','Start station','End station number','End station'], axis = 1)\n",
    "combined_2020_df.tail()"
   ]
  },
  {
   "cell_type": "code",
   "execution_count": null,
   "metadata": {},
   "outputs": [],
   "source": [
    "#combined_2020_df.dropna(inplace = True)\n",
    "#No clean up needed as count matches\n",
    "#combined_2020_df.dropna(inplace = True)"
   ]
  },
  {
   "cell_type": "code",
   "execution_count": null,
   "metadata": {},
   "outputs": [],
   "source": [
    "combined_2020_df.count()\n",
    "\n",
    "\n",
    "#combined_2020_df.to_csv('2020Data.csv', index = False)"
   ]
  },
  {
   "cell_type": "code",
   "execution_count": null,
   "metadata": {},
   "outputs": [],
   "source": [
    "#Cleanup and create data\n",
    "combined_2020_df['DateTime'] =  pd.to_datetime(combined_2020_df['Start date'], format='%Y-%m-%d %H:%M:%S')\n",
    "# extracting time from timestamp\n",
    "combined_2020_df['Time'] = combined_2020_df['DateTime'].dt.strftime('%H:%M')\n",
    "combined_2020_df['Month'] = combined_2020_df['DateTime'].dt.strftime('%b')\n",
    "combined_2020_df['Date'] = combined_2020_df['DateTime'].dt.strftime('%x')\n",
    "combined_2020_df.head()"
   ]
  },
  {
   "cell_type": "code",
   "execution_count": null,
   "metadata": {},
   "outputs": [],
   "source": [
    "combined_2020_df.head()"
   ]
  },
  {
   "cell_type": "code",
   "execution_count": null,
   "metadata": {},
   "outputs": [],
   "source": [
    "combined_2019_df = combined_2019_df.astype({'Duration': float})\n",
    "combined_2019_df.head()"
   ]
  },
  {
   "cell_type": "code",
   "execution_count": null,
   "metadata": {},
   "outputs": [],
   "source": [
    "#combined_2020_NeededColumns_df.to_csv('2020Data.csv', index = False)"
   ]
  },
  {
   "cell_type": "code",
   "execution_count": null,
   "metadata": {
    "scrolled": true
   },
   "outputs": [],
   "source": [
    "months = ['Jan', 'Feb', 'Mar', 'Apr','May','Jun', 'Jul', 'Aug','Sep', 'Oct', 'Nov', 'Dec']\n",
    "\n",
    "sum_2019 = combined_2019_df['Month'].value_counts()\n",
    "sum_2019 =sum_2019.reindex(months) \n",
    "#sum_2019"
   ]
  },
  {
   "cell_type": "code",
   "execution_count": null,
   "metadata": {
    "scrolled": true
   },
   "outputs": [],
   "source": [
    "sum_2020 = combined_2020_df['Month'].value_counts()\n",
    "sum_2020 = pd.concat([sum_2020.iloc[:1], pd.Series(0, ['Apr']),sum_2020[1:]])\n",
    "sum_2020 =sum_2020.reindex(months) \n",
    "#sum_2020"
   ]
  },
  {
   "cell_type": "code",
   "execution_count": null,
   "metadata": {},
   "outputs": [],
   "source": [
    "\n",
    "combined_2020_df['Member type'].replace(to_replace =\"casual\",\n",
    "                 value =\"Casual\",inplace = True)\n",
    "\n",
    "combined_2020_df['Member type'].replace(to_replace =\"member\",\n",
    "                 value =\"Member\",inplace = True)"
   ]
  },
  {
   "cell_type": "code",
   "execution_count": null,
   "metadata": {},
   "outputs": [],
   "source": [
    "combined_2019_df[\"DayName\"] = combined_2019_df[\"DateTime\"].dt.day_name()\n",
    "combined_2019_df[\"DayNum\"] = combined_2019_df[\"DateTime\"].dt.weekday\n",
    "\n",
    "outlierIndex = combined_2019_df[combined_2019_df[\"Duration\"] \n",
    "                                > (combined_2019_df[\"Duration\"].mean() + (2 * (combined_2019_df[\"Duration\"].std())))].index\n",
    "\n",
    "combined_2019_df.drop(outlierIndex, inplace=True)\n",
    "\n",
    "sample_2019_df = combined_2019_df.sample(200)\n",
    "sample_2019_df[\"DayInYear\"] = sample_2019_df[\"DateTime\"].dt.strftime('%j')\n",
    "sorted_sample_df = sample_2019_df.sort_values(by=\"Date\")\n",
    "sorted_sample_df.sort_values(by=\"DayNum\", inplace=True)\n",
    "sorted_sample_df.tail()"
   ]
  },
  {
   "cell_type": "code",
   "execution_count": null,
   "metadata": {},
   "outputs": [],
   "source": [
    "#months = [\"Jan\", \"Feb\", \"Mar\", \"Apr\", \"May\", \"Jun\", \"Jul\", \"Aug\", \"Sep\", \"Oct\", \"Nov\", \"Dec\"]\n",
    "x_values = sorted_sample_df['DateTime']\n",
    "y_values = sorted_sample_df['DayName']\n",
    "duration = sorted_sample_df['Duration']\n",
    "fig = plt.figure(figsize=(12,8))\n",
    "ax = fig.add_axes([.1,.1,.8,.8])\n",
    "ax.scatter(x_values, y_values, s=duration, c=\"red\", alpha=0.5, edgecolor=\"black\")\n",
    "ax.set_xlabel('Month')\n",
    "ax.set_ylabel('Weekday')\n",
    "#ax.xaxis_date()\n",
    "#ax.set_xticks(np.arange(1,12,1))\n",
    "#ax.set_xticklabels(months)\n",
    "\n",
    "plt.show()"
   ]
  },
  {
   "cell_type": "code",
   "execution_count": null,
   "metadata": {},
   "outputs": [],
   "source": [
    "#---Line Chart, ALL rides by month Year over Year\n",
    " \n",
    "\n",
    "plt.plot(sum_2019, Label = '2019')\n",
    "plt.plot(sum_2020, Label = '2020')\n",
    "\n",
    "plt.title(\"City Bike Share 2019 v 2020\")\n",
    "plt.xlabel(\"Month\")\n",
    "plt.ylabel(\"Bike Share Rides\")\n",
    " \n",
    "plt.legend()\n",
    "plt.show()"
   ]
  },
  {
   "cell_type": "code",
   "execution_count": null,
   "metadata": {},
   "outputs": [],
   "source": [
    "# Bar Graph month over month\n",
    "\n",
    "x = np.arange(len(months))  # the label locations\n",
    "width = 0.35  # the width of the bars\n",
    "\n",
    "fig, ax = plt.subplots()\n",
    "rects1 = ax.bar(x - width/2, sum_2019, width, label='2019')\n",
    "rects2 = ax.bar(x + width/2, sum_2020, width, label='2020')\n",
    "\n",
    "ax.set_ylabel('Bike Rides')\n",
    "ax.set_title('City Bike Share 2019 v 2020 month over month')\n",
    "ax.set_xticks(x)\n",
    "ax.set_xticklabels(months)\n",
    "ax.legend()\n",
    "\n",
    "\n",
    "fig.tight_layout()\n",
    "\n",
    "plt.show()"
   ]
  },
  {
   "cell_type": "code",
   "execution_count": null,
   "metadata": {},
   "outputs": [],
   "source": [
    "time_2019_df = combined_2019_df\n",
    "time_2019_df[\"Time\"] = pd.to_datetime(time_2019_df['Time'], format='%H:%M').dt.hour\n",
    "\n",
    "bins = [-1,5,7,9,11,13,15,17,19,21,24]\n",
    "\n",
    "bin_labels = [\"Pre-Dawn\",\"Early Morning\", \"Morning Rush\", \"Mid Morning\", \"Lunch Rush\", \"Early Afternoon\", \"Mid Afternoon\", \"Evening Rush\", \"Late Evening\", \"Overnight\"]\n",
    "\n",
    "# Apply bins and labels\n",
    "time_df_2019 = time_2019_df\n",
    "time_df_2019[\"Time of Day\"] = pd.cut(time_df_2019[\"Time\"], bins, labels=bin_labels)\n",
    "\n",
    "# Group time data frame\n",
    "time_df_2019 = time_df_2019.groupby('Time of Day').count()\n",
    "\n",
    "time_2019_counts = time_df_2019[\"Time\"]\n",
    "\n",
    "time_2019_sum = pd.DataFrame({\"Number of Rides\": time_2019_counts})\n",
    "time_2019_sum"
   ]
  },
  {
   "cell_type": "code",
   "execution_count": null,
   "metadata": {},
   "outputs": [],
   "source": [
    "time_2020_df = combined_2020_df\n",
    "time_2020_df[\"Time\"] = pd.to_datetime(time_2020_df['Time'], format='%H:%M').dt.hour\n",
    "\n",
    "bins = [-1,5,7,9,11,13,15,17,19,21,24]\n",
    "\n",
    "bin_labels = [\"Pre-Dawn\",\"Early Morning\", \"Morning Rush\", \"Mid Morning\", \"Lunch Rush\", \"Early Afternoon\", \"Mid Afternoon\", \"Evening Rush\", \"Late Evening\", \"Overnight\"]\n",
    "\n",
    "# Apply bins and labels\n",
    "time_df_2020 = time_2020_df\n",
    "time_df_2020[\"Time of Day\"] = pd.cut(time_df_2020[\"Time\"], bins, labels=bin_labels)\n",
    "\n",
    "# Group time data frame\n",
    "time_df_2020 = time_df_2020.groupby('Time of Day').count()\n",
    "\n",
    "time_2020_counts = time_df_2020[\"Time\"]\n",
    "\n",
    "time_2020_sum = pd.DataFrame({\"Number of Rides\": time_2020_counts})\n",
    "time_2020_sum"
   ]
  }
 ],
 "metadata": {
  "anaconda-cloud": {},
  "kernel_info": {
   "name": "python3"
  },
  "kernelspec": {
   "display_name": "Python [conda env:PythonData] *",
   "language": "python",
   "name": "conda-env-PythonData-py"
  },
  "language_info": {
   "codemirror_mode": {
    "name": "ipython",
    "version": 3
   },
   "file_extension": ".py",
   "mimetype": "text/x-python",
   "name": "python",
   "nbconvert_exporter": "python",
   "pygments_lexer": "ipython3",
   "version": "3.6.10"
  },
  "latex_envs": {
   "LaTeX_envs_menu_present": true,
   "autoclose": false,
   "autocomplete": true,
   "bibliofile": "biblio.bib",
   "cite_by": "apalike",
   "current_citInitial": 1,
   "eqLabelWithNumbers": true,
   "eqNumInitial": 1,
   "hotkeys": {
    "equation": "Ctrl-E",
    "itemize": "Ctrl-I"
   },
   "labels_anchors": false,
   "latex_user_defs": false,
   "report_style_numbering": false,
   "user_envs_cfg": false
  },
  "nteract": {
   "version": "0.12.3"
  }
 },
 "nbformat": 4,
 "nbformat_minor": 2
}
